{
 "cells": [
  {
   "cell_type": "code",
   "execution_count": 5,
   "metadata": {},
   "outputs": [
    {
     "name": "stdout",
     "output_type": "stream",
     "text": [
      "[63.67217405]\n"
     ]
    }
   ],
   "source": [
    "import modelLoader\n",
    "from random import randint\n",
    "\n",
    "# Generate random input data\n",
    "DaySincePlanted = randint(0, 100)\n",
    "Humidity = randint(0, 100)\n",
    "Tempreture = randint(0, 100)\n",
    "DailySunExposure = randint(0, 100)\n",
    "WaterPhLevel = randint(0, 100)\n",
    "NutrientLevel = randint(0, 100)\n",
    "SunExposureIntensityLux = randint(0, 100)\n",
    "VisibleLightWaveLength = randint(0, 100)\n",
    "TempretureDeviation = randint(0, 100)\n",
    "HumidityDeviation = randint(0, 100)\n",
    "FanSpeed = randint(0, 100)\n",
    "\n",
    "model = modelLoader.LattueseModelLoader()\n",
    "\n",
    "# Fetch input data as a DataFrame\n",
    "X = model.fetchingData(DaySincePlanted, Humidity, Tempreture, DailySunExposure,\n",
    "                       WaterPhLevel, NutrientLevel, SunExposureIntensityLux,\n",
    "                       VisibleLightWaveLength, TempretureDeviation, HumidityDeviation, FanSpeed)\n",
    "\n",
    "# Make predictions\n",
    "predictions = model.predict(X)\n",
    "print(predictions)"
   ]
  },
  {
   "cell_type": "markdown",
   "metadata": {},
   "source": []
  },
  {
   "cell_type": "code",
   "execution_count": null,
   "metadata": {},
   "outputs": [],
   "source": []
  }
 ],
 "metadata": {
  "kernelspec": {
   "display_name": "base",
   "language": "python",
   "name": "python3"
  },
  "language_info": {
   "codemirror_mode": {
    "name": "ipython",
    "version": 3
   },
   "file_extension": ".py",
   "mimetype": "text/x-python",
   "name": "python",
   "nbconvert_exporter": "python",
   "pygments_lexer": "ipython3",
   "version": "3.11.5"
  }
 },
 "nbformat": 4,
 "nbformat_minor": 2
}
